{
 "cells": [
  {
   "cell_type": "markdown",
   "metadata": {},
   "source": [
    "# Математическая логика\n",
    "#### Проверить любым способ, является ли данная логическая формула тавтологией:\n",
    "#### 1. $( A \\vee B) \\to (B \\vee \\overline A)$ \n",
    "\n",
    "##### Ответ: \n",
    "данная формула не является тавтологией, потому что:\n",
    "\n",
    "возьмем например $A = True, B = False,$ тогда $\\overline A  =  False$  и  \n",
    "\n",
    "$ ( A \\vee B) = True,$  a  $(B \\vee \\overline A) =  False $  \n",
    "\n",
    "\n",
    "    \n",
    "    \n",
    "    \n",
    "\n",
    "    \n"
   ]
  },
  {
   "cell_type": "markdown",
   "metadata": {},
   "source": [
    "#### 2.  $ A  \\to (A \\vee (\\overline B \\wedge A)$  \n",
    "\n",
    "##### Ответ: \n",
    "является тавтологией, потому что:\n",
    "\n",
    "$(A \\vee (\\overline B \\wedge A) = (A \\vee ( A  \\wedge \\overline B)$,  по закону коммутативности конъюнкции, и \n",
    "\n",
    "$(A \\vee ( A  \\wedge \\overline B) = A $, по закону поглощения для дизъюнкции\n"
   ]
  },
  {
   "cell_type": "markdown",
   "metadata": {},
   "source": [
    "#### Сформулируйте словесно высказывания:\n",
    "#### 3. $ (\\overline A \\vee B) \\to \\overline C$ \n",
    "\n",
    "#### 4. $ C \\to   (A \\vee \\overline B)$\n",
    "\n",
    "\n",
    "А: сегодня светит солнце;  \n",
    "В: сегодня сыро;  \n",
    "С: я поеду на дачу.\n",
    "\n",
    "###### Ответ:\n",
    "\n",
    "3. Если сегодня не светит солнце или сыро, то я не поеду на дачу\n",
    "4. Я поехал на дачу, значит или светит солнце или не сыро. \n"
   ]
  },
  {
   "cell_type": "markdown",
   "metadata": {},
   "source": [
    "#### Пользуясь правилом построения противоположного высказывания, записать утверждения, противоположные следующим:\n",
    "#### 5. На любом курсе каждого факультета есть студенты, сдающие все экзамены на «отлично».  \n",
    "##### Ответ:\n",
    "На одном из факультетов имеется курс на котором все студенты не сдают хотя бы один экзамен на \"отлично\"\n",
    "\n",
    "\n",
    "#### 6. Каждый студент философского факультета имеет друга, который умеет решать все логические задачи.\n",
    "##### Ответ:\n",
    "Есть студент философского факультета у которого нет друга, который не умеет решать хотя бы одну логическую задачу.\n",
    "\n",
    "\n",
    "#### 7. В любом самолете на рейсе Вашингтон-Москва присутствует хотя бы один сотрудник силовых органов, в каждой пуговице одежды которого вмонтирован микрофон.\n",
    "##### Ответ:\n",
    "Существует самолет на рейсе Вашингтон-Москва, на котором нет ни одного сотрудника силовых органов, у которого хотя бы в одной пуговице одежды не вмонтирован микрофон."
   ]
  },
  {
   "cell_type": "markdown",
   "metadata": {},
   "source": [
    "#### Представьте в виде несократимой рациональной дроби:\n",
    "#### 8.  0.(216)\n",
    "##### Ответ:\n",
    "\n",
    "$ a = 0.(216) \\to 1000a = 216 + 0.(216) \\to 1000a = 216 + a $  \n",
    "\n",
    "$a = \\displaystyle \\frac{216}{999} $  \n",
    "\n",
    "$a = \\displaystyle \\frac{8}{37} $ \n",
    "\n"
   ]
  },
  {
   "cell_type": "markdown",
   "metadata": {},
   "source": [
    "#### 9. 1.0(01)\n",
    "##### Ответ:\n",
    "\n",
    "$ a = 1.0(01) \\to 10a = 10+ 0,(01)  $      учитывая что  $ b = 0.(01) \\to 100b = 1 +b \\to 0,(01) = \\displaystyle \\frac{1}{99} $  \n",
    "$10a = 10 + \\displaystyle \\frac{1}{99} $  \n",
    "\n",
    "$10a = \\displaystyle \\frac{991}{99} $ \n",
    "\n",
    "$a = \\displaystyle \\frac{991}{990} $ "
   ]
  },
  {
   "cell_type": "markdown",
   "metadata": {},
   "source": [
    "#### 10. Представьте 1 в виде суммы трех рациональных дробей с разными знаменателями и числителем равным 1.\n",
    "##### Ответ:\n",
    "\n",
    "$1 = \\displaystyle \\frac{1}{2} + \\displaystyle \\frac{1}{3} + \\displaystyle \\frac{1}{6}$"
   ]
  },
  {
   "cell_type": "markdown",
   "metadata": {},
   "source": [
    "#### 11*. Тоже задание, только в виде суммы шести дробей.\n",
    "##### Ответ:  \n",
    "\n",
    "$1 = \\displaystyle \\frac{1}{2} + \\displaystyle \\frac{1}{3} + \\displaystyle \\frac{1}{12} + \\displaystyle \\frac{1}{24} + \\displaystyle \\frac{1}{36} + \\displaystyle \\frac{1}{72}$"
   ]
  },
  {
   "cell_type": "markdown",
   "metadata": {},
   "source": [
    "#### 12. Найдите значение предела:  \n",
    "\n",
    "$ \\lim\\limits_{n \\to \\infty} (\\displaystyle \\frac{1}{1\\cdot2} + \\displaystyle \\frac{1}{2\\cdot3} + \\displaystyle \\frac{1}{3\\cdot4} + \\displaystyle \\frac{1}{4\\cdot5} +\\cdots + \\displaystyle \\frac{1}{(n-1)\\cdot n} )$\n",
    "\n",
    "##### Ответ:  \n",
    "Преобразуем частичную сумму до n:  \n",
    "$(\\displaystyle \\frac{1}{1\\cdot2} + \\displaystyle \\frac{1}{2\\cdot3} + \\displaystyle \\frac{1}{3\\cdot4}  +\\cdots + \\displaystyle \\frac{1}{(n-1)\\cdot n} ) = $   \n",
    "\n",
    "$= ((1 - \\displaystyle \\frac{1}{2}) + (\\displaystyle \\frac{1}{2} - \\displaystyle \\frac{1}{3})  + (\\displaystyle \\frac{1}{3} - \\displaystyle \\frac{1}{4}) +\\cdots + (\\displaystyle \\frac{1}{(n-1)} - \\displaystyle \\frac{1}{n})) =$   \n",
    "\n",
    "\n",
    "$=(1-\\displaystyle \\frac{1}{n})$\n",
    "\n",
    "При $ n \\to \\infty $ такой предел суммы  = 1.\n"
   ]
  },
  {
   "cell_type": "markdown",
   "metadata": {},
   "source": [
    "#### 13. Пользуясь критерием Коши, докажите сходимость последовательности:\n",
    "\n",
    "$ a_n = \\displaystyle \\frac{\\sin 1}{2} + \\displaystyle \\frac{\\sin 2}{2^2} + \\displaystyle \\frac{\\sin 3}{2^3} +\\cdots + \\displaystyle \\frac{\\sin n}{2^n} $\n",
    "##### Ответ:  \n",
    "\n",
    "$\\sin n \\leq 1$, следовательно: \n",
    "$a_n = \\displaystyle \\frac{\\sin 1}{2} + \\displaystyle \\frac{\\sin 2}{2^2} + \\displaystyle \\frac{\\sin 3}{2^3} +\\cdots + \\displaystyle \\frac{\\sin n}{2^n} \\leq \\displaystyle \\frac{1}{2} + \\displaystyle \\frac{1}{2^2} + \\displaystyle \\frac{1}{2^3} +\\cdots + \\displaystyle \\frac{1}{2^n}$  \n",
    "\n",
    "$|a_{n+k} - a_n| \\leq \\displaystyle \\frac{1}{2^{n+1}} + \\displaystyle \\frac{1}{2^{n+2}} + \\cdots +  \\displaystyle \\frac{1}{2^{n+k}}  =  \\displaystyle \\frac{1}{2^n}(\\displaystyle \\frac{1}{2} + \\displaystyle \\frac{1}{2^2} + \\cdots + \\displaystyle \\frac{1}{2^k}) \\leq \\displaystyle \\frac{1}{2^n} * 1 $, следовательно если  $\\displaystyle \\frac{1}{2^n} < \\varepsilon $, то критерию Коши удовлетворяет. \n",
    "\n",
    "$ 2^{-n} < \\varepsilon$  \n",
    "\n",
    "\n",
    "$- n < \\log_2{\\varepsilon}$\n",
    "\n",
    "тогда для всех $к > 0$ и $n > N$, и где \n",
    "$ N > - \\log_2{\\varepsilon}$, будет справедливо неравенство $|a_{n+k} - a_n| < \\varepsilon$\n",
    "\n",
    "\n",
    "\n"
   ]
  },
  {
   "cell_type": "markdown",
   "metadata": {},
   "source": [
    "#### 13* Какой член последовательности можно взять в качестве предела с точностью 𝜀 = 10−7"
   ]
  },
  {
   "cell_type": "code",
   "execution_count": 34,
   "metadata": {},
   "outputs": [
    {
     "name": "stdout",
     "output_type": "stream",
     "text": [
      "Для того чтобы вычислить с точностью 1e-07 необходимо вычислять не менее чем 24 член\n"
     ]
    }
   ],
   "source": [
    "import math\n",
    "eps = 0.0000001\n",
    "N = round(-math.log2(eps)) + 1\n",
    "print (f'Для того чтобы вычислить с точностью {eps} необходимо вычислять не менее чем {N} член')"
   ]
  },
  {
   "cell_type": "code",
   "execution_count": 35,
   "metadata": {},
   "outputs": [],
   "source": [
    "# Определяем функцию вычисления ряда до n\n",
    "def a(n):\n",
    "    S = 0\n",
    "    for i in range (1,n+1):\n",
    "        S += math.sin(i)/(math.pow(2,i))\n",
    "    return S"
   ]
  },
  {
   "cell_type": "code",
   "execution_count": 36,
   "metadata": {},
   "outputs": [
    {
     "name": "stdout",
     "output_type": "stream",
     "text": [
      "1.3456123326704983e-08\n"
     ]
    }
   ],
   "source": [
    "#Проверим точность вычисления\n",
    "k = 200\n",
    "print(a(N+k) - a(N))"
   ]
  },
  {
   "cell_type": "markdown",
   "metadata": {},
   "source": [
    "#### 14*. Пользуясь критерием Коши, докажите расходимость последовательности:\n",
    "\n",
    "$b_n = 1 + \\displaystyle \\frac{1}{2} + \\displaystyle \\frac{1}{3} +\\cdots + \\displaystyle \\frac{1}{n}$\n",
    "\n",
    "\n",
    "##### Ответ:  \n",
    "\n",
    "\n",
    "Чтобы доказать расходимость надо показать что: ∃𝜀 > 0, ∃𝑛, 𝑘 > 0: |$a_n$ − $a_{n+k}$| ≥ 𝜀\n",
    "\n",
    "Пусть $ \\varepsilon = \\displaystyle \\frac{1}{4}, k = n $, тогда:\n",
    "$|b_{n+k} - b_n| = \\displaystyle \\frac{1}{n+1} + \\displaystyle \\frac{1}{n+1} + \\cdots + \\displaystyle \\frac{1}{2n} > n \\displaystyle \\frac{1}{2n} = \\displaystyle \\frac{1}{2} > \\varepsilon $"
   ]
  }
 ],
 "metadata": {
  "kernelspec": {
   "display_name": "Python 3",
   "language": "python",
   "name": "python3"
  },
  "language_info": {
   "codemirror_mode": {
    "name": "ipython",
    "version": 3
   },
   "file_extension": ".py",
   "mimetype": "text/x-python",
   "name": "python",
   "nbconvert_exporter": "python",
   "pygments_lexer": "ipython3",
   "version": "3.7.3"
  }
 },
 "nbformat": 4,
 "nbformat_minor": 2
}
